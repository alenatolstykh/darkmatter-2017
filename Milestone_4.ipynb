{
 "cells": [
  {
   "cell_type": "code",
   "execution_count": 2,
   "metadata": {
    "collapsed": true
   },
   "outputs": [],
   "source": [
    "import pandas as pd\n",
    "import glob\n",
    "import numpy as np\n",
    "from sklearn.neighbors import BallTree, KDTree, DistanceMetric\n",
    "import lightgbm as lgb\n",
    "import matplotlib.pyplot as plt\n",
    "import matplotlib.lines as lines\n",
    "import matplotlib as mpl\n",
    "from mpl_toolkits.mplot3d import Axes3D\n",
    "import subprocess\n",
    "%matplotlib inline"
   ]
  },
  {
   "cell_type": "code",
   "execution_count": 34,
   "metadata": {
    "collapsed": false
   },
   "outputs": [
    {
     "data": {
      "text/html": [
       "<div>\n",
       "<style scoped>\n",
       "    .dataframe tbody tr th:only-of-type {\n",
       "        vertical-align: middle;\n",
       "    }\n",
       "\n",
       "    .dataframe tbody tr th {\n",
       "        vertical-align: top;\n",
       "    }\n",
       "\n",
       "    .dataframe thead th {\n",
       "        text-align: right;\n",
       "    }\n",
       "</style>\n",
       "<table border=\"1\" class=\"dataframe\">\n",
       "  <thead>\n",
       "    <tr style=\"text-align: right;\">\n",
       "      <th></th>\n",
       "      <th>TX</th>\n",
       "      <th>TY</th>\n",
       "      <th>X</th>\n",
       "      <th>Y</th>\n",
       "      <th>Z</th>\n",
       "      <th>data_ind</th>\n",
       "    </tr>\n",
       "  </thead>\n",
       "  <tbody>\n",
       "    <tr>\n",
       "      <th>0</th>\n",
       "      <td>0.087240</td>\n",
       "      <td>0.119438</td>\n",
       "      <td>86536.218750</td>\n",
       "      <td>62988.312500</td>\n",
       "      <td>56892.0</td>\n",
       "      <td>0</td>\n",
       "    </tr>\n",
       "    <tr>\n",
       "      <th>1</th>\n",
       "      <td>-0.380208</td>\n",
       "      <td>0.198382</td>\n",
       "      <td>93346.765625</td>\n",
       "      <td>58062.937500</td>\n",
       "      <td>14223.0</td>\n",
       "      <td>0</td>\n",
       "    </tr>\n",
       "    <tr>\n",
       "      <th>2</th>\n",
       "      <td>-0.348549</td>\n",
       "      <td>-0.099981</td>\n",
       "      <td>66129.578125</td>\n",
       "      <td>23038.673828</td>\n",
       "      <td>46548.0</td>\n",
       "      <td>0</td>\n",
       "    </tr>\n",
       "    <tr>\n",
       "      <th>3</th>\n",
       "      <td>0.585342</td>\n",
       "      <td>-0.126879</td>\n",
       "      <td>68825.523438</td>\n",
       "      <td>55186.625000</td>\n",
       "      <td>45255.0</td>\n",
       "      <td>0</td>\n",
       "    </tr>\n",
       "    <tr>\n",
       "      <th>4</th>\n",
       "      <td>0.038579</td>\n",
       "      <td>-0.131510</td>\n",
       "      <td>36366.941406</td>\n",
       "      <td>47564.878906</td>\n",
       "      <td>9051.0</td>\n",
       "      <td>0</td>\n",
       "    </tr>\n",
       "  </tbody>\n",
       "</table>\n",
       "</div>"
      ],
      "text/plain": [
       "         TX        TY             X             Y        Z  data_ind\n",
       "0  0.087240  0.119438  86536.218750  62988.312500  56892.0         0\n",
       "1 -0.380208  0.198382  93346.765625  58062.937500  14223.0         0\n",
       "2 -0.348549 -0.099981  66129.578125  23038.673828  46548.0         0\n",
       "3  0.585342 -0.126879  68825.523438  55186.625000  45255.0         0\n",
       "4  0.038579 -0.131510  36366.941406  47564.878906   9051.0         0"
      ]
     },
     "execution_count": 34,
     "metadata": {},
     "output_type": "execute_result"
    }
   ],
   "source": [
    "test = pd.concat([pd.read_hdf(file) for file in ['test_close0.h5', 'test_close10.h5']])\n",
    "test = test.reset_index(drop=True)\n",
    "test.head()"
   ]
  },
  {
   "cell_type": "markdown",
   "metadata": {},
   "source": [
    "## Grouping"
   ]
  },
  {
   "cell_type": "markdown",
   "metadata": {},
   "source": [
    "Let's generate features using BallTree"
   ]
  },
  {
   "cell_type": "code",
   "execution_count": 5,
   "metadata": {
    "collapsed": true
   },
   "outputs": [],
   "source": [
    "from tqdm import tqdm\n",
    "\n",
    "columns = ['TX', 'TY', 'X', 'Y', 'Z']\n",
    "for_metric = columns[:-1]\n",
    "\n",
    "def add_neighbours(df, k, same_pair, metric='minkowski'):\n",
    "    result = []\n",
    "    \n",
    "    for data_ind in tqdm(df.data_ind.unique()):\n",
    "        ind = df[df.data_ind == data_ind]\n",
    "        values = list(sorted(ind.Z.unique()))\n",
    "        for z, z_next in zip(values, values[1:]):\n",
    "            z, z_next = ind[ind.Z == z].copy(), ind[ind.Z == z_next].copy()\n",
    "#             1293 is a typical distance between neighbour slices along OZ\n",
    "            z[['TX', 'TY']] *= 1293\n",
    "            z_next[['TX', 'TY']] *= 1293\n",
    "            \n",
    "            b_tree = BallTree(z_next[for_metric], metric=metric)\n",
    "            d, idx = b_tree.query(z[for_metric], k=min(k, len(z_next)))\n",
    "            \n",
    "            for i in range(idx.shape[1]):\n",
    "                data = z_next.iloc[idx[:, i]]\n",
    "                temp = z.copy()\n",
    "                for col in columns:\n",
    "                    temp[col + '_pair'] = data[col].values\n",
    "                if same_pair:\n",
    "                    temp['same_pair'] = data.event_id.values == z.event_id.values\n",
    "                result.append(temp)\n",
    "            \n",
    "        result.append(z_next)\n",
    "        \n",
    "    result = pd.concat(result)\n",
    "    for col in columns:\n",
    "        result['d' + col] = result[col].values - result[col + '_pair'].values\n",
    "    return result\n",
    "\n",
    "def make_train(df, k):\n",
    "    t = add_neighbours(df, k=k, same_pair=True)\n",
    "    noise = t.event_id == -999\n",
    "    signal, not_signal = t[~noise], t[noise]\n",
    "    noise_part = not_signal.sample(len(signal))\n",
    "    return pd.concat([signal, noise_part]).reset_index(drop=True)"
   ]
  },
  {
   "cell_type": "code",
   "execution_count": 6,
   "metadata": {
    "collapsed": false,
    "scrolled": true
   },
   "outputs": [
    {
     "name": "stderr",
     "output_type": "stream",
     "text": [
      "100%|██████████| 10/10 [00:33<00:00,  3.30s/it]\n",
      "/Users/Yusuf/anaconda/lib/python3.5/site-packages/ipykernel/__main__.py:32: FutureWarning: Sorting because non-concatenation axis is not aligned. A future version\n",
      "of pandas will change to not sort by default.\n",
      "\n",
      "To accept the future behavior, pass 'sort=False'.\n",
      "\n",
      "To retain the current behavior and silence the warning, pass 'sort=True'.\n",
      "\n",
      "100%|██████████| 10/10 [00:31<00:00,  3.19s/it]\n",
      "100%|██████████| 10/10 [00:32<00:00,  3.25s/it]\n",
      "100%|██████████| 10/10 [00:38<00:00,  3.87s/it]\n",
      "100%|██████████| 10/10 [00:39<00:00,  3.94s/it]\n"
     ]
    }
   ],
   "source": [
    "train = []\n",
    "for file in glob.glob('hdf5/open*.h5')[:5]:\n",
    "    train.append(make_train(pd.read_hdf(file), k=3))\n",
    "train = pd.concat(train)"
   ]
  },
  {
   "cell_type": "code",
   "execution_count": 7,
   "metadata": {
    "collapsed": false
   },
   "outputs": [
    {
     "data": {
      "text/html": [
       "<div>\n",
       "<style scoped>\n",
       "    .dataframe tbody tr th:only-of-type {\n",
       "        vertical-align: middle;\n",
       "    }\n",
       "\n",
       "    .dataframe tbody tr th {\n",
       "        vertical-align: top;\n",
       "    }\n",
       "\n",
       "    .dataframe thead th {\n",
       "        text-align: right;\n",
       "    }\n",
       "</style>\n",
       "<table border=\"1\" class=\"dataframe\">\n",
       "  <thead>\n",
       "    <tr style=\"text-align: right;\">\n",
       "      <th></th>\n",
       "      <th>TX</th>\n",
       "      <th>TX_pair</th>\n",
       "      <th>TY</th>\n",
       "      <th>TY_pair</th>\n",
       "      <th>X</th>\n",
       "      <th>X_pair</th>\n",
       "      <th>Y</th>\n",
       "      <th>Y_pair</th>\n",
       "      <th>Z</th>\n",
       "      <th>Z_pair</th>\n",
       "      <th>data_ind</th>\n",
       "      <th>event_id</th>\n",
       "      <th>same_pair</th>\n",
       "      <th>signal</th>\n",
       "      <th>dTX</th>\n",
       "      <th>dTY</th>\n",
       "      <th>dX</th>\n",
       "      <th>dY</th>\n",
       "      <th>dZ</th>\n",
       "    </tr>\n",
       "  </thead>\n",
       "  <tbody>\n",
       "    <tr>\n",
       "      <th>0</th>\n",
       "      <td>64.295792</td>\n",
       "      <td>85.199005</td>\n",
       "      <td>120.471031</td>\n",
       "      <td>128.525360</td>\n",
       "      <td>49545.425781</td>\n",
       "      <td>49540.316406</td>\n",
       "      <td>58027.636719</td>\n",
       "      <td>58018.058594</td>\n",
       "      <td>5172.000000</td>\n",
       "      <td>5427.205078</td>\n",
       "      <td>271</td>\n",
       "      <td>153997.0</td>\n",
       "      <td>False</td>\n",
       "      <td>1.0</td>\n",
       "      <td>-20.903214</td>\n",
       "      <td>-8.054329</td>\n",
       "      <td>5.109375</td>\n",
       "      <td>9.578125</td>\n",
       "      <td>-255.205078</td>\n",
       "    </tr>\n",
       "    <tr>\n",
       "      <th>1</th>\n",
       "      <td>85.199005</td>\n",
       "      <td>70.662689</td>\n",
       "      <td>128.525360</td>\n",
       "      <td>122.620712</td>\n",
       "      <td>49540.316406</td>\n",
       "      <td>49611.359375</td>\n",
       "      <td>58018.058594</td>\n",
       "      <td>58146.925781</td>\n",
       "      <td>5427.205078</td>\n",
       "      <td>6465.000000</td>\n",
       "      <td>271</td>\n",
       "      <td>189715.0</td>\n",
       "      <td>False</td>\n",
       "      <td>1.0</td>\n",
       "      <td>14.536316</td>\n",
       "      <td>5.904648</td>\n",
       "      <td>-71.042969</td>\n",
       "      <td>-128.867188</td>\n",
       "      <td>-1037.794922</td>\n",
       "    </tr>\n",
       "    <tr>\n",
       "      <th>2</th>\n",
       "      <td>85.199005</td>\n",
       "      <td>-117.009766</td>\n",
       "      <td>128.525360</td>\n",
       "      <td>153.375397</td>\n",
       "      <td>49540.316406</td>\n",
       "      <td>49843.593750</td>\n",
       "      <td>58018.058594</td>\n",
       "      <td>58355.070312</td>\n",
       "      <td>5427.205078</td>\n",
       "      <td>6465.000000</td>\n",
       "      <td>271</td>\n",
       "      <td>189715.0</td>\n",
       "      <td>False</td>\n",
       "      <td>1.0</td>\n",
       "      <td>202.208771</td>\n",
       "      <td>-24.850037</td>\n",
       "      <td>-303.277344</td>\n",
       "      <td>-337.011719</td>\n",
       "      <td>-1037.794922</td>\n",
       "    </tr>\n",
       "    <tr>\n",
       "      <th>3</th>\n",
       "      <td>85.199005</td>\n",
       "      <td>507.651611</td>\n",
       "      <td>128.525360</td>\n",
       "      <td>42.330360</td>\n",
       "      <td>49540.316406</td>\n",
       "      <td>50004.304688</td>\n",
       "      <td>58018.058594</td>\n",
       "      <td>58237.914062</td>\n",
       "      <td>5427.205078</td>\n",
       "      <td>6465.000000</td>\n",
       "      <td>271</td>\n",
       "      <td>189715.0</td>\n",
       "      <td>False</td>\n",
       "      <td>1.0</td>\n",
       "      <td>-422.452606</td>\n",
       "      <td>86.195000</td>\n",
       "      <td>-463.988281</td>\n",
       "      <td>-219.855469</td>\n",
       "      <td>-1037.794922</td>\n",
       "    </tr>\n",
       "    <tr>\n",
       "      <th>4</th>\n",
       "      <td>-1019.463440</td>\n",
       "      <td>-967.443237</td>\n",
       "      <td>-316.895508</td>\n",
       "      <td>-311.478729</td>\n",
       "      <td>60857.125000</td>\n",
       "      <td>60936.945312</td>\n",
       "      <td>34515.269531</td>\n",
       "      <td>34540.082031</td>\n",
       "      <td>6465.000000</td>\n",
       "      <td>6702.123047</td>\n",
       "      <td>271</td>\n",
       "      <td>183074.0</td>\n",
       "      <td>True</td>\n",
       "      <td>1.0</td>\n",
       "      <td>-52.020203</td>\n",
       "      <td>-5.416779</td>\n",
       "      <td>-79.820312</td>\n",
       "      <td>-24.812500</td>\n",
       "      <td>-237.123047</td>\n",
       "    </tr>\n",
       "  </tbody>\n",
       "</table>\n",
       "</div>"
      ],
      "text/plain": [
       "            TX     TX_pair          TY     TY_pair             X  \\\n",
       "0    64.295792   85.199005  120.471031  128.525360  49545.425781   \n",
       "1    85.199005   70.662689  128.525360  122.620712  49540.316406   \n",
       "2    85.199005 -117.009766  128.525360  153.375397  49540.316406   \n",
       "3    85.199005  507.651611  128.525360   42.330360  49540.316406   \n",
       "4 -1019.463440 -967.443237 -316.895508 -311.478729  60857.125000   \n",
       "\n",
       "         X_pair             Y        Y_pair            Z       Z_pair  \\\n",
       "0  49540.316406  58027.636719  58018.058594  5172.000000  5427.205078   \n",
       "1  49611.359375  58018.058594  58146.925781  5427.205078  6465.000000   \n",
       "2  49843.593750  58018.058594  58355.070312  5427.205078  6465.000000   \n",
       "3  50004.304688  58018.058594  58237.914062  5427.205078  6465.000000   \n",
       "4  60936.945312  34515.269531  34540.082031  6465.000000  6702.123047   \n",
       "\n",
       "   data_ind  event_id same_pair  signal         dTX        dTY          dX  \\\n",
       "0       271  153997.0     False     1.0  -20.903214  -8.054329    5.109375   \n",
       "1       271  189715.0     False     1.0   14.536316   5.904648  -71.042969   \n",
       "2       271  189715.0     False     1.0  202.208771 -24.850037 -303.277344   \n",
       "3       271  189715.0     False     1.0 -422.452606  86.195000 -463.988281   \n",
       "4       271  183074.0      True     1.0  -52.020203  -5.416779  -79.820312   \n",
       "\n",
       "           dY           dZ  \n",
       "0    9.578125  -255.205078  \n",
       "1 -128.867188 -1037.794922  \n",
       "2 -337.011719 -1037.794922  \n",
       "3 -219.855469 -1037.794922  \n",
       "4  -24.812500  -237.123047  "
      ]
     },
     "execution_count": 7,
     "metadata": {},
     "output_type": "execute_result"
    }
   ],
   "source": [
    "train.head()"
   ]
  },
  {
   "cell_type": "markdown",
   "metadata": {},
   "source": [
    "## Training"
   ]
  },
  {
   "cell_type": "code",
   "execution_count": 8,
   "metadata": {
    "collapsed": true
   },
   "outputs": [],
   "source": [
    "y_train = train.signal\n",
    "X_train = train.drop(['event_id', 'signal', 'data_ind', 'same_pair'], axis=1)"
   ]
  },
  {
   "cell_type": "code",
   "execution_count": 9,
   "metadata": {
    "collapsed": false
   },
   "outputs": [],
   "source": [
    "import xgboost as xgb\n",
    "from xgboost import XGBClassifier\n",
    "from sklearn.model_selection import StratifiedKFold, GridSearchCV"
   ]
  },
  {
   "cell_type": "code",
   "execution_count": 10,
   "metadata": {
    "collapsed": true
   },
   "outputs": [],
   "source": [
    "param_grid = {\n",
    "        'n_estimators':[20], \n",
    "        'max_depth':[15],\n",
    "}\n",
    "\n",
    "#class XGBClassifier_tmp(XGBClassifier):\n",
    "#    def predict(self, X):\n",
    "#        return XGBClassifier.predict_proba(self, X)[:, 1]"
   ]
  },
  {
   "cell_type": "code",
   "execution_count": 12,
   "metadata": {
    "collapsed": false
   },
   "outputs": [],
   "source": [
    "clf = GridSearchCV(XGBClassifier(learning_rate=0.05, subsample=0.8,\n",
    "                                     colsample_bytree=0.8), \n",
    "                   param_grid=param_grid, n_jobs=1,\n",
    "                   scoring='roc_auc',\n",
    "                   cv=StratifiedKFold(3, shuffle=True, random_state=0),\n",
    "                   verbose=7)"
   ]
  },
  {
   "cell_type": "code",
   "execution_count": 13,
   "metadata": {
    "collapsed": false
   },
   "outputs": [
    {
     "name": "stdout",
     "output_type": "stream",
     "text": [
      "Fitting 3 folds for each of 1 candidates, totalling 3 fits\n",
      "[CV] n_estimators=20, max_depth=15 ...................................\n",
      "[CV]  n_estimators=20, max_depth=15, score=0.9292994407509952, total=11.3min\n",
      "[CV] n_estimators=20, max_depth=15 ...................................\n"
     ]
    },
    {
     "name": "stderr",
     "output_type": "stream",
     "text": [
      "[Parallel(n_jobs=1)]: Done   1 out of   1 | elapsed: 11.5min remaining:    0.0s\n"
     ]
    },
    {
     "name": "stdout",
     "output_type": "stream",
     "text": [
      "[CV]  n_estimators=20, max_depth=15, score=0.9281347717044828, total=11.4min\n",
      "[CV] n_estimators=20, max_depth=15 ...................................\n"
     ]
    },
    {
     "name": "stderr",
     "output_type": "stream",
     "text": [
      "[Parallel(n_jobs=1)]: Done   2 out of   2 | elapsed: 23.2min remaining:    0.0s\n"
     ]
    },
    {
     "name": "stdout",
     "output_type": "stream",
     "text": [
      "[CV]  n_estimators=20, max_depth=15, score=0.9278846054317196, total=11.4min\n"
     ]
    },
    {
     "name": "stderr",
     "output_type": "stream",
     "text": [
      "[Parallel(n_jobs=1)]: Done   3 out of   3 | elapsed: 34.9min remaining:    0.0s\n",
      "[Parallel(n_jobs=1)]: Done   3 out of   3 | elapsed: 34.9min finished\n"
     ]
    },
    {
     "data": {
      "text/plain": [
       "GridSearchCV(cv=StratifiedKFold(n_splits=3, random_state=0, shuffle=True),\n",
       "       error_score='raise',\n",
       "       estimator=XGBClassifier(base_score=0.5, booster='gbtree', colsample_bylevel=1,\n",
       "       colsample_bytree=0.8, gamma=0, learning_rate=0.05, max_delta_step=0,\n",
       "       max_depth=3, min_child_weight=1, missing=None, n_estimators=100,\n",
       "       n_jobs=1, nthread=None, objective='binary:logistic', random_state=0,\n",
       "       reg_alpha=0, reg_lambda=1, scale_pos_weight=1, seed=None,\n",
       "       silent=True, subsample=0.8),\n",
       "       fit_params=None, iid=True, n_jobs=1,\n",
       "       param_grid={'n_estimators': [20], 'max_depth': [15]},\n",
       "       pre_dispatch='2*n_jobs', refit=True, return_train_score='warn',\n",
       "       scoring='roc_auc', verbose=7)"
      ]
     },
     "execution_count": 13,
     "metadata": {},
     "output_type": "execute_result"
    }
   ],
   "source": [
    "clf.fit(X_train, y_train)"
   ]
  },
  {
   "cell_type": "code",
   "execution_count": 14,
   "metadata": {
    "collapsed": false
   },
   "outputs": [
    {
     "data": {
      "text/plain": [
       "XGBClassifier(base_score=0.5, booster='gbtree', colsample_bylevel=1,\n",
       "       colsample_bytree=0.8, gamma=0, learning_rate=0.05, max_delta_step=0,\n",
       "       max_depth=15, min_child_weight=1, missing=None, n_estimators=20,\n",
       "       n_jobs=1, nthread=None, objective='binary:logistic', random_state=0,\n",
       "       reg_alpha=0, reg_lambda=1, scale_pos_weight=1, seed=None,\n",
       "       silent=True, subsample=0.8)"
      ]
     },
     "execution_count": 14,
     "metadata": {},
     "output_type": "execute_result"
    }
   ],
   "source": [
    "clf.best_estimator_"
   ]
  },
  {
   "cell_type": "code",
   "execution_count": 15,
   "metadata": {
    "collapsed": true
   },
   "outputs": [],
   "source": [
    "xgb_clf = clf.best_estimator_"
   ]
  },
  {
   "cell_type": "code",
   "execution_count": 16,
   "metadata": {
    "collapsed": false
   },
   "outputs": [
    {
     "data": {
      "text/plain": [
       "XGBClassifier(base_score=0.5, booster='gbtree', colsample_bylevel=1,\n",
       "       colsample_bytree=0.8, gamma=0, learning_rate=0.05, max_delta_step=0,\n",
       "       max_depth=15, min_child_weight=1, missing=None, n_estimators=20,\n",
       "       n_jobs=1, nthread=None, objective='binary:logistic', random_state=0,\n",
       "       reg_alpha=0, reg_lambda=1, scale_pos_weight=1, seed=None,\n",
       "       silent=True, subsample=0.8)"
      ]
     },
     "execution_count": 16,
     "metadata": {},
     "output_type": "execute_result"
    }
   ],
   "source": [
    "xgb_clf"
   ]
  },
  {
   "cell_type": "markdown",
   "metadata": {},
   "source": [
    "# Fit"
   ]
  },
  {
   "cell_type": "code",
   "execution_count": 35,
   "metadata": {
    "collapsed": false
   },
   "outputs": [
    {
     "name": "stderr",
     "output_type": "stream",
     "text": [
      "100%|██████████| 11/11 [00:35<00:00,  3.20s/it]\n",
      "/Users/Yusuf/anaconda/lib/python3.5/site-packages/ipykernel/__main__.py:32: FutureWarning: Sorting because non-concatenation axis is not aligned. A future version\n",
      "of pandas will change to not sort by default.\n",
      "\n",
      "To accept the future behavior, pass 'sort=False'.\n",
      "\n",
      "To retain the current behavior and silence the warning, pass 'sort=True'.\n",
      "\n"
     ]
    }
   ],
   "source": [
    "prepared_test = add_neighbours(test, k=3, same_pair=False)\n",
    "X_test = prepared_test.drop(['data_ind'], axis=1)"
   ]
  },
  {
   "cell_type": "code",
   "execution_count": 36,
   "metadata": {
    "collapsed": false
   },
   "outputs": [
    {
     "data": {
      "text/plain": [
       "XGBClassifier(base_score=0.5, booster='gbtree', colsample_bylevel=1,\n",
       "       colsample_bytree=0.8, gamma=0, learning_rate=0.05, max_delta_step=0,\n",
       "       max_depth=15, min_child_weight=1, missing=None, n_estimators=20,\n",
       "       n_jobs=1, nthread=None, objective='binary:logistic', random_state=0,\n",
       "       reg_alpha=0, reg_lambda=1, scale_pos_weight=1, seed=None,\n",
       "       silent=True, subsample=0.8)"
      ]
     },
     "execution_count": 36,
     "metadata": {},
     "output_type": "execute_result"
    }
   ],
   "source": [
    "xgb_clf.fit(X_train, y_train)"
   ]
  },
  {
   "cell_type": "markdown",
   "metadata": {},
   "source": [
    "### Final prediction == average probability for each point"
   ]
  },
  {
   "cell_type": "code",
   "execution_count": 37,
   "metadata": {
    "collapsed": true
   },
   "outputs": [],
   "source": [
    "probs = xgb_clf.predict_proba(X_test)[:,1]"
   ]
  },
  {
   "cell_type": "code",
   "execution_count": 38,
   "metadata": {
    "collapsed": true
   },
   "outputs": [],
   "source": [
    "df = pd.DataFrame({'id': prepared_test.index, 'signal': probs}).groupby('id')\n",
    "agg = df.aggregate(('mean')).loc[:, ['signal']]"
   ]
  },
  {
   "cell_type": "code",
   "execution_count": 39,
   "metadata": {
    "collapsed": false
   },
   "outputs": [
    {
     "data": {
      "text/plain": [
       "(7698899, 1)"
      ]
     },
     "execution_count": 39,
     "metadata": {},
     "output_type": "execute_result"
    }
   ],
   "source": [
    "agg.shape"
   ]
  },
  {
   "cell_type": "code",
   "execution_count": 40,
   "metadata": {
    "collapsed": false
   },
   "outputs": [
    {
     "data": {
      "text/html": [
       "<div>\n",
       "<style scoped>\n",
       "    .dataframe tbody tr th:only-of-type {\n",
       "        vertical-align: middle;\n",
       "    }\n",
       "\n",
       "    .dataframe tbody tr th {\n",
       "        vertical-align: top;\n",
       "    }\n",
       "\n",
       "    .dataframe thead th {\n",
       "        text-align: right;\n",
       "    }\n",
       "</style>\n",
       "<table border=\"1\" class=\"dataframe\">\n",
       "  <thead>\n",
       "    <tr style=\"text-align: right;\">\n",
       "      <th></th>\n",
       "      <th>signal</th>\n",
       "    </tr>\n",
       "    <tr>\n",
       "      <th>id</th>\n",
       "      <th></th>\n",
       "    </tr>\n",
       "  </thead>\n",
       "  <tbody>\n",
       "    <tr>\n",
       "      <th>0</th>\n",
       "      <td>0.207938</td>\n",
       "    </tr>\n",
       "    <tr>\n",
       "      <th>1</th>\n",
       "      <td>0.184213</td>\n",
       "    </tr>\n",
       "    <tr>\n",
       "      <th>2</th>\n",
       "      <td>0.261881</td>\n",
       "    </tr>\n",
       "    <tr>\n",
       "      <th>3</th>\n",
       "      <td>0.330666</td>\n",
       "    </tr>\n",
       "    <tr>\n",
       "      <th>4</th>\n",
       "      <td>0.196086</td>\n",
       "    </tr>\n",
       "  </tbody>\n",
       "</table>\n",
       "</div>"
      ],
      "text/plain": [
       "      signal\n",
       "id          \n",
       "0   0.207938\n",
       "1   0.184213\n",
       "2   0.261881\n",
       "3   0.330666\n",
       "4   0.196086"
      ]
     },
     "execution_count": 40,
     "metadata": {},
     "output_type": "execute_result"
    }
   ],
   "source": [
    "agg.head()"
   ]
  },
  {
   "cell_type": "code",
   "execution_count": 41,
   "metadata": {
    "collapsed": true
   },
   "outputs": [],
   "source": [
    "agg.to_csv('submit.csv', index=True)"
   ]
  }
 ],
 "metadata": {
  "kernelspec": {
   "display_name": "Python 3",
   "language": "python",
   "name": "python3"
  },
  "language_info": {
   "codemirror_mode": {
    "name": "ipython",
    "version": 3
   },
   "file_extension": ".py",
   "mimetype": "text/x-python",
   "name": "python",
   "nbconvert_exporter": "python",
   "pygments_lexer": "ipython3",
   "version": "3.5.5"
  }
 },
 "nbformat": 4,
 "nbformat_minor": 2
}
